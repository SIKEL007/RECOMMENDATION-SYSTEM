{
 "cells": [
  {
   "cell_type": "code",
   "execution_count": 1,
   "id": "d19b6b6c",
   "metadata": {},
   "outputs": [],
   "source": [
    "#!/usr/bin/python\n"
   ]
  },
  {
   "cell_type": "code",
   "execution_count": 2,
   "id": "a32e3c21",
   "metadata": {},
   "outputs": [],
   "source": [
    "import sqlite3"
   ]
  },
  {
   "cell_type": "code",
   "execution_count": 3,
   "id": "2f157c25",
   "metadata": {},
   "outputs": [],
   "source": [
    "conn = sqlite3.connect('test.db')"
   ]
  },
  {
   "cell_type": "code",
   "execution_count": 6,
   "id": "316c4f00",
   "metadata": {},
   "outputs": [
    {
     "name": "stdout",
     "output_type": "stream",
     "text": [
      "opened database sucessfully\n"
     ]
    }
   ],
   "source": [
    "print (\"opened database sucessfully\")"
   ]
  },
  {
   "cell_type": "code",
   "execution_count": 8,
   "id": "3b5d04ed",
   "metadata": {},
   "outputs": [
    {
     "ename": "SyntaxError",
     "evalue": "invalid syntax (2953705794.py, line 1)",
     "output_type": "error",
     "traceback": [
      "\u001b[1;36m  File \u001b[1;32m\"C:\\Users\\HP\\AppData\\Local\\Temp\\ipykernel_92572\\2953705794.py\"\u001b[1;36m, line \u001b[1;32m1\u001b[0m\n\u001b[1;33m    $chmod +x sqlite.py\u001b[0m\n\u001b[1;37m    ^\u001b[0m\n\u001b[1;31mSyntaxError\u001b[0m\u001b[1;31m:\u001b[0m invalid syntax\n"
     ]
    }
   ],
   "source": [
    "$chmod +x sqlite.py"
   ]
  },
  {
   "cell_type": "code",
   "execution_count": 9,
   "id": "ef181d23",
   "metadata": {},
   "outputs": [],
   "source": [
    "import sqlite3 as sq"
   ]
  },
  {
   "cell_type": "code",
   "execution_count": 10,
   "id": "493f0fc2",
   "metadata": {},
   "outputs": [
    {
     "name": "stdout",
     "output_type": "stream",
     "text": [
      "database connected sucessfully\n"
     ]
    }
   ],
   "source": [
    "conn = sqlite3.connect('database.db')\n",
    "print (\"database connected sucessfully\")\n",
    "\n"
   ]
  },
  {
   "cell_type": "code",
   "execution_count": 11,
   "id": "459d3e95",
   "metadata": {},
   "outputs": [
    {
     "data": {
      "text/plain": [
       "<sqlite3.Connection at 0x21b6cac94e0>"
      ]
     },
     "execution_count": 11,
     "metadata": {},
     "output_type": "execute_result"
    }
   ],
   "source": [
    "conn"
   ]
  },
  {
   "cell_type": "markdown",
   "id": "0d835583",
   "metadata": {},
   "source": [
    "### CREATE A TABLE"
   ]
  },
  {
   "cell_type": "code",
   "execution_count": 14,
   "id": "7c4577c4",
   "metadata": {},
   "outputs": [
    {
     "ename": "OperationalError",
     "evalue": "table PRODUCTS already exists",
     "output_type": "error",
     "traceback": [
      "\u001b[1;31m---------------------------------------------------------------------------\u001b[0m",
      "\u001b[1;31mOperationalError\u001b[0m                          Traceback (most recent call last)",
      "\u001b[1;32m~\\AppData\\Local\\Temp\\ipykernel_92572\\1940993107.py\u001b[0m in \u001b[0;36m<module>\u001b[1;34m\u001b[0m\n\u001b[1;32m----> 1\u001b[1;33m conn.execute('''CREATE TABLE PRODUCTS\n\u001b[0m\u001b[0;32m      2\u001b[0m          (\n\u001b[0;32m      3\u001b[0m                   \u001b[0mID\u001b[0m \u001b[0mINT\u001b[0m \u001b[0mPRIMARY\u001b[0m \u001b[0mKEY\u001b[0m     \u001b[0mNOT\u001b[0m \u001b[0mNULL\u001b[0m\u001b[1;33m,\u001b[0m\u001b[1;33m\u001b[0m\u001b[1;33m\u001b[0m\u001b[0m\n\u001b[0;32m      4\u001b[0m                   \u001b[0mNAME\u001b[0m     \u001b[0mTEXT\u001b[0m          \u001b[0mNOT\u001b[0m \u001b[0mNULL\u001b[0m\u001b[1;33m,\u001b[0m\u001b[1;33m\u001b[0m\u001b[1;33m\u001b[0m\u001b[0m\n\u001b[0;32m      5\u001b[0m                   \u001b[0mPRICE\u001b[0m    \u001b[0mINT\u001b[0m           \u001b[0mNOT\u001b[0m \u001b[0mNULL\u001b[0m\u001b[1;33m,\u001b[0m\u001b[1;33m\u001b[0m\u001b[1;33m\u001b[0m\u001b[0m\n",
      "\u001b[1;31mOperationalError\u001b[0m: table PRODUCTS already exists"
     ]
    }
   ],
   "source": [
    "conn.execute('''CREATE TABLE PRODUCTS\n",
    "         (\n",
    "                  ID INT PRIMARY KEY     NOT NULL,\n",
    "                  NAME     TEXT          NOT NULL,\n",
    "                  PRICE    INT           NOT NULL,\n",
    "                  BRAND    TEXT          NOT NULL,\n",
    "                  COLOR    TEXT          NOT NULL\n",
    "         )\n",
    "         \n",
    "''')\n"
   ]
  },
  {
   "cell_type": "markdown",
   "id": "01bb0de1",
   "metadata": {},
   "source": [
    "INSERT OPERATIONS"
   ]
  },
  {
   "cell_type": "code",
   "execution_count": 18,
   "id": "77f340a6",
   "metadata": {},
   "outputs": [
    {
     "data": {
      "text/plain": [
       "<sqlite3.Cursor at 0x21b6cb92ab0>"
      ]
     },
     "execution_count": 18,
     "metadata": {},
     "output_type": "execute_result"
    }
   ],
   "source": [
    "conn.execute(\"INSERT INTO PRODUCTS (ID, NAME, PRICE, BRAND,COLOR) \\\n",
    "      VALUES (1, 'jessey', 4500, 'gucci', 'blue' )\")"
   ]
  },
  {
   "cell_type": "code",
   "execution_count": 19,
   "id": "e58e5354",
   "metadata": {},
   "outputs": [
    {
     "data": {
      "text/plain": [
       "<sqlite3.Cursor at 0x21b6cb92d50>"
      ]
     },
     "execution_count": 19,
     "metadata": {},
     "output_type": "execute_result"
    }
   ],
   "source": [
    "conn.execute(\"INSERT INTO PRODUCTS (ID, NAME, PRICE, BRAND,COLOR) \\\n",
    "      VALUES (2, 'boot', 25000, 'nike', 'yellow' )\")\n",
    "conn.execute(\"INSERT INTO PRODUCTS (ID, NAME, PRICE, BRAND,COLOR) \\\n",
    "      VALUES (3, 'laptop', 150000, 'hp', 'black' )\")\n",
    "conn.execute(\"INSERT INTO PRODUCTS (ID, NAME, PRICE, BRAND,COLOR) \\\n",
    "      VALUES (4, 'keyboard', 13400, 'razer', 'grey' )\")\n",
    "conn.execute(\"INSERT INTO PRODUCTS (ID, NAME, PRICE, BRAND,COLOR) \\\n",
    "      VALUES (5, 'bag', 80000, 'louiz vuitton', 'brown' )\")\n",
    "conn.execute(\"INSERT INTO PRODUCTS (ID, NAME, PRICE, BRAND,COLOR) \\\n",
    "      VALUES (6, 'earpiece', 10000, 'band', 'black' )\")\n",
    "conn.execute(\"INSERT INTO PRODUCTS (ID, NAME, PRICE, BRAND,COLOR) \\\n",
    "      VALUES (7, 'mouse', 5800, 'dell', 'purple' )\")"
   ]
  },
  {
   "cell_type": "code",
   "execution_count": 25,
   "id": "3a9590ea",
   "metadata": {},
   "outputs": [
    {
     "data": {
      "text/plain": [
       "[(1, 'jessey', 4500, 'gucci', 'blue'),\n",
       " (2, 'boot', 25000, 'nike', 'yellow'),\n",
       " (3, 'laptop', 150000, 'hp', 'black'),\n",
       " (4, 'keyboard', 13400, 'razer', 'grey'),\n",
       " (5, 'bag', 80000, 'louiz vuitton', 'brown'),\n",
       " (6, 'earpiece', 10000, 'band', 'black'),\n",
       " (7, 'mouse', 5800, 'dell', 'purple')]"
      ]
     },
     "execution_count": 25,
     "metadata": {},
     "output_type": "execute_result"
    }
   ],
   "source": [
    "allrecords = conn.execute(\"SELECT * FROM PRODUCTS\").fetchall()\n",
    "allrecords"
   ]
  },
  {
   "cell_type": "code",
   "execution_count": 39,
   "id": "b077857b",
   "metadata": {},
   "outputs": [
    {
     "data": {
      "text/plain": [
       "[(5, 'bag', 80000, 'louiz vuitton', 'brown')]"
      ]
     },
     "execution_count": 39,
     "metadata": {},
     "output_type": "execute_result"
    }
   ],
   "source": [
    "conn.execute(\"SELECT * FROM PRODUCTS where BRAND = 'louiz vuitton'\").fetchall()"
   ]
  },
  {
   "cell_type": "code",
   "execution_count": 38,
   "id": "2cc1ee88",
   "metadata": {},
   "outputs": [
    {
     "data": {
      "text/plain": [
       "[(3, 'laptop', 150000, 'hp', 'black'),\n",
       " (5, 'bag', 80000, 'louiz vuitton', 'brown')]"
      ]
     },
     "execution_count": 38,
     "metadata": {},
     "output_type": "execute_result"
    }
   ],
   "source": [
    "conn.execute(\"SELECT * FROM PRODUCTS where PRICE > 50000\").fetchall()"
   ]
  },
  {
   "cell_type": "markdown",
   "id": "e2dd3da4",
   "metadata": {},
   "source": [
    "UPDATE OPERATION"
   ]
  },
  {
   "cell_type": "code",
   "execution_count": 47,
   "id": "7ede8b6c",
   "metadata": {},
   "outputs": [
    {
     "data": {
      "text/plain": [
       "<function Connection.commit>"
      ]
     },
     "execution_count": 47,
     "metadata": {},
     "output_type": "execute_result"
    }
   ],
   "source": [
    "conn.execute(\"UPDATE PRODUCTS set PRICE  = 250000 where id =3\")\n",
    "conn.commit\n"
   ]
  },
  {
   "cell_type": "code",
   "execution_count": 49,
   "id": "a1224e9e",
   "metadata": {},
   "outputs": [
    {
     "data": {
      "text/plain": [
       "[(1, 'jessey', 4500, 'gucci', 'blue'),\n",
       " (2, 'boot', 25000, 'nike', 'yellow'),\n",
       " (3, 'laptop', 250000, 'hp', 'black'),\n",
       " (4, 'keyboard', 13400, 'razer', 'grey'),\n",
       " (5, 'bag', 80000, 'louiz vuitton', 'brown'),\n",
       " (6, 'earpiece', 10000, 'band', 'black'),\n",
       " (7, 'mouse', 5800, 'dell', 'purple')]"
      ]
     },
     "execution_count": 49,
     "metadata": {},
     "output_type": "execute_result"
    }
   ],
   "source": [
    "conn.execute(\"SELECT * FROM PRODUCTS\").fetchall()"
   ]
  },
  {
   "cell_type": "markdown",
   "id": "59405767",
   "metadata": {},
   "source": [
    "DELETE OPERATION"
   ]
  },
  {
   "cell_type": "code",
   "execution_count": 51,
   "id": "7875e10a",
   "metadata": {},
   "outputs": [
    {
     "data": {
      "text/plain": [
       "<sqlite3.Cursor at 0x21b6cba5810>"
      ]
     },
     "execution_count": 51,
     "metadata": {},
     "output_type": "execute_result"
    }
   ],
   "source": [
    "conn.execute(\"DELETE FROM PRODUCTS where id =6\")"
   ]
  },
  {
   "cell_type": "code",
   "execution_count": null,
   "id": "947d01b2",
   "metadata": {},
   "outputs": [],
   "source": []
  }
 ],
 "metadata": {
  "kernelspec": {
   "display_name": "Python 3 (ipykernel)",
   "language": "python",
   "name": "python3"
  },
  "language_info": {
   "codemirror_mode": {
    "name": "ipython",
    "version": 3
   },
   "file_extension": ".py",
   "mimetype": "text/x-python",
   "name": "python",
   "nbconvert_exporter": "python",
   "pygments_lexer": "ipython3",
   "version": "3.9.13"
  }
 },
 "nbformat": 4,
 "nbformat_minor": 5
}
